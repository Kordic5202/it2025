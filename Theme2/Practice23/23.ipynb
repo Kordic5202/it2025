{
 "cells": [
  {
   "cell_type": "code",
   "execution_count": 5,
   "metadata": {},
   "outputs": [
    {
     "ename": "SyntaxError",
     "evalue": "invalid syntax (980956605.py, line 3)",
     "output_type": "error",
     "traceback": [
      "  \u001b[36mCell\u001b[39m\u001b[36m \u001b[39m\u001b[32mIn[5]\u001b[39m\u001b[32m, line 3\u001b[39m\n\u001b[31m    \u001b[39m\u001b[31mentity \"Техніка\" as Equipment {\u001b[39m\n    ^\n\u001b[31mSyntaxError\u001b[39m\u001b[31m:\u001b[39m invalid syntax\n"
     ]
    }
   ],
   "source": [
    "@startuml\n",
    "\n",
    "entity \"Техніка\" as Equipment {\n",
    "    * equipment_id : INT [PK]\n",
    "    --\n",
    "    * Тип : TEXT\n",
    "    * Стан : TEXT\n",
    "    * Дата_обслуговування : DATE\n",
    "    --\n",
    "    unit_id : INT [FK]\n",
    "}\n",
    "\n",
    "entity \"Маршрути\" as Routes {\n",
    "    * route_id : INT [PK]\n",
    "    --\n",
    "    * Назва : TEXT\n",
    "    * Довжина : INT\n",
    "    --\n",
    "    equipment_id : INT [FK]\n",
    "}\n",
    "\n",
    "entity \"Особовий склад\" as Personnel {\n",
    "    * personnel_id : INT [PK]\n",
    "    --\n",
    "    * Ім_я : TEXT\n",
    "    * Прізвище : TEXT\n",
    "    * Ранг : TEXT\n",
    "    * Роль : TEXT\n",
    "    --\n",
    "    unit_id : INT [FK]\n",
    "}\n",
    "\n",
    "Units ||--o{ Equipment : \"Має\"\n",
    "Equipment ||--o{ Routes : \"Виконує\"\n",
    "Units ||--o{ Personnel : \"Містить\"\n",
    "\n",
    "@enduml\n",
    "\n"
   ]
  },
  {
   "cell_type": "code",
   "execution_count": 6,
   "metadata": {},
   "outputs": [
    {
     "ename": "SyntaxError",
     "evalue": "invalid syntax (72904301.py, line 3)",
     "output_type": "error",
     "traceback": [
      "  \u001b[36mCell\u001b[39m\u001b[36m \u001b[39m\u001b[32mIn[6]\u001b[39m\u001b[32m, line 3\u001b[39m\n\u001b[31m    \u001b[39m\u001b[31mentity \"Техніка\" as Equipment {\u001b[39m\n    ^\n\u001b[31mSyntaxError\u001b[39m\u001b[31m:\u001b[39m invalid syntax\n"
     ]
    }
   ],
   "source": [
    "@startuml\n",
    "\n",
    "entity \"Техніка\" as Equipment {\n",
    "    * equipment_id : INT [PK]\n",
    "    --\n",
    "    * Тип : TEXT\n",
    "    * Стан : TEXT\n",
    "    * Дата_обслуговування : DATE\n",
    "    --\n",
    "    unit_id : INT [FK]\n",
    "}\n",
    "\n",
    "entity \"Маршрути\" as Routes {\n",
    "    * route_id : INT [PK]\n",
    "    --\n",
    "    * Назва : TEXT\n",
    "    * Довжина : INT\n",
    "    --\n",
    "    equipment_id : INT [FK]\n",
    "}\n",
    "\n",
    "entity \"Особовий склад\" as Personnel {\n",
    "    * personnel_id : INT [PK]\n",
    "    --\n",
    "    * Ім_я : TEXT\n",
    "    * Прізвище : TEXT\n",
    "    * Ранг : TEXT\n",
    "    * Роль : TEXT\n",
    "    --\n",
    "    unit_id : INT [FK]\n",
    "}\n",
    "\n",
    "Units ||--o{ Equipment : \"Має\"\n",
    "Equipment ||--o{ Routes : \"Виконує\"\n",
    "Units ||--o{ Personnel : \"Містить\"\n",
    "\n",
    "@enduml\n"
   ]
  }
 ],
 "metadata": {
  "kernelspec": {
   "display_name": "Python 3",
   "language": "python",
   "name": "python3"
  },
  "language_info": {
   "codemirror_mode": {
    "name": "ipython",
    "version": 3
   },
   "file_extension": ".py",
   "mimetype": "text/x-python",
   "name": "python",
   "nbconvert_exporter": "python",
   "pygments_lexer": "ipython3",
   "version": "3.13.1"
  }
 },
 "nbformat": 4,
 "nbformat_minor": 2
}
