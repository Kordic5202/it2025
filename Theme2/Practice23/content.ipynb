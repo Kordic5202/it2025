{
 "cells": [
  {
   "cell_type": "markdown",
   "metadata": {},
   "source": []
  },
  {
   "cell_type": "code",
   "execution_count": null,
   "metadata": {
    "vscode": {
     "languageId": "plaintext"
    }
   },
   "outputs": [],
   "source": [
    "@startuml\n",
    "\n",
    "entity \"Техніка\" as Equipment {\n",
    "    * equipment_id : INT [PK]\n",
    "    --\n",
    "    * Тип : TEXT\n",
    "    * Стан : TEXT\n",
    "    * Дата_обслуговування : DATE\n",
    "    --\n",
    "    unit_id : INT [FK]\n",
    "}\n",
    "\n",
    "entity \"Маршрути\" as Routes {\n",
    "    * route_id : INT [PK]\n",
    "    --\n",
    "    * Назва : TEXT\n",
    "    * Довжина : INT\n",
    "    --\n",
    "    equipment_id : INT [FK]\n",
    "}\n",
    "\n",
    "entity \"Особовий склад\" as Personnel {\n",
    "    * personnel_id : INT [PK]\n",
    "    --\n",
    "    * Ім_я : TEXT\n",
    "    * Прізвище : TEXT\n",
    "    * Ранг : TEXT\n",
    "    * Роль : TEXT\n",
    "    --\n",
    "    unit_id : INT [FK]\n",
    "}\n",
    "\n",
    "Units ||--o{ Equipment : \"Має\"\n",
    "Equipment ||--o{ Routes : \"Виконує\"\n",
    "Units ||--o{ Personnel : \"Містить\"\n",
    "\n",
    "@enduml\n"
   ]
  }
 ],
 "metadata": {
  "language_info": {
   "name": "python"
  }
 },
 "nbformat": 4,
 "nbformat_minor": 2
}
