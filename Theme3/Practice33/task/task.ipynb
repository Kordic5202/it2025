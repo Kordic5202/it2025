{
 "cells": [
  {
   "cell_type": "markdown",
   "metadata": {},
   "source": [
    "import numpy as np\n",
    "import pandas as pd\n",
    "from sklearn.model_selection import train_test_split\n",
    "from sklearn.preprocessing import StandardScaler, OneHotEncoder\n",
    "from sklearn.compose import ColumnTransformer\n",
    "from sklearn.pipeline import Pipeline\n",
    "from sklearn.linear_model import LinearRegression\n",
    "from sklearn.ensemble import RandomForestRegressor\n",
    "from sklearn.metrics import mean_absolute_error, mean_squared_error, r2_score\n",
    "\n",
    "# Генеруємо штучний набір даних\n",
    "np.random.seed(42)\n",
    "num_samples = 500\n",
    "\n",
    "# Числові ознаки\n",
    "num_features = pd.DataFrame({\n",
    "    'feature1': np.random.uniform(10, 100, num_samples),\n",
    "    'feature2': np.random.uniform(1, 50, num_samples),\n",
    "    'feature3': np.random.uniform(5, 75, num_samples)\n",
    "})\n",
    "\n",
    "# Категоріальні ознаки\n",
    "cat_features = pd.DataFrame({\n",
    "    'category1': np.random.choice(['A', 'B', 'C'], num_samples),\n",
    "    'category2': np.random.choice(['X', 'Y'], num_samples)\n",
    "})\n",
    "\n",
    "# Цільова змінна\n",
    "target = num_features['feature1'] * 0.5 + num_features['feature2'] * 2 + np.random.normal(0, 10, num_samples)\n",
    "\n",
    "# Об'єднуємо все в один датафрейм\n",
    "df = pd.concat([num_features, cat_features], axis=1)\n",
    "df['target'] = target\n",
    "\n",
    "# Відображаємо частину набору даних\n",
    "import ace_tools as tools\n",
    "tools.display_dataframe_to_user(name=\"Generated Dataset\", dataframe=df)\n"
   ]
  }
 ],
 "metadata": {
  "language_info": {
   "name": "python"
  }
 },
 "nbformat": 4,
 "nbformat_minor": 2
}
